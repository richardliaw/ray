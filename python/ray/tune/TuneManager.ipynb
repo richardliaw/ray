{
 "cells": [
  {
   "cell_type": "code",
   "execution_count": 14,
   "metadata": {},
   "outputs": [],
   "source": [
    "from ray.tune.manager import ExpManager\n",
    "import ray\n",
    "import pandas as pd"
   ]
  },
  {
   "cell_type": "code",
   "execution_count": 2,
   "metadata": {},
   "outputs": [],
   "source": [
    "manager = ExpManager(tune_address=\"localhost:4321\")"
   ]
  },
  {
   "cell_type": "code",
   "execution_count": null,
   "metadata": {
    "scrolled": false
   },
   "outputs": [],
   "source": [
    "x = manager.get_all_trials()\n",
    "\n",
    "data = [{\"id\": y[\"id\"],\n",
    "  \"host\": y[\"result\"][\"hostname\"],\n",
    "  \"status\": y[\"status\"], \n",
    "  \"iter\": y[\"result\"][\"training_iteration\"], \n",
    "  \"avg_rew\": y[\"result\"][\"episode_reward_mean\"], \n",
    "  \"avg_len\": y[\"result\"][\"episode_len_mean\"],\n",
    "  \"max_rew\": y[\"result\"][\"info\"][\"max\"],\n",
    "  \"min_rew\": y[\"result\"][\"info\"][\"min\"]} for y in x[\"trials\"] if y[\"result\"]]\n",
    "df = pd.DataFrame(data)\n",
    "\n",
    "\n",
    "df.sort_values(\"avg_rew\", ascending=False)"
   ]
  },
  {
   "cell_type": "code",
   "execution_count": 35,
   "metadata": {},
   "outputs": [
    {
     "name": "stdout",
     "output_type": "stream",
     "text": [
      "Status: <Response [200]>\n"
     ]
    }
   ],
   "source": [
    "t = manager.get_trial(\"2f052e0d\")"
   ]
  },
  {
   "cell_type": "code",
   "execution_count": 36,
   "metadata": {},
   "outputs": [
    {
     "data": {
      "text/plain": [
       "{'trial_info': {'config': {'batch_size': 20,\n",
       "   'entropy_coeff': -0.01,\n",
       "   'env': 'PongDeterministic-v4',\n",
       "   'gamma': 0.99,\n",
       "   'grad_clip': 1.0,\n",
       "   'lambda': 1.0,\n",
       "   'lr': 0.0001,\n",
       "   'model': {'channel_major': False,\n",
       "    'dim': 42,\n",
       "    'grayscale': True,\n",
       "    'zero_mean': False},\n",
       "   'num_workers': 8,\n",
       "   'observation_filter': 'NoFilter',\n",
       "   'optimizer': {'grads_per_step': 1000},\n",
       "   'queue_size': 1,\n",
       "   'reward_filter': 'NoFilter',\n",
       "   'use_lstm': True,\n",
       "   'use_pytorch': False,\n",
       "   'vf_loss_coeff': 0.5},\n",
       "  'id': '2f052e0d',\n",
       "  'result': {'date': '2017-12-31_09-35-23',\n",
       "   'done': None,\n",
       "   'episode_len_mean': 1598.1666666666667,\n",
       "   'episode_reward_mean': -16.416666666666668,\n",
       "   'episodes_total': None,\n",
       "   'experiment_id': '63e22cc200144343981cb5012bffa95b',\n",
       "   'hostname': 'ip-172-31-13-30',\n",
       "   'info': {'max': -9.0, 'min': -19.0},\n",
       "   'mean_accuracy': None,\n",
       "   'mean_loss': None,\n",
       "   'mean_validation_accuracy': None,\n",
       "   'neg_mean_loss': None,\n",
       "   'pid': 4424,\n",
       "   'time_this_iter_s': 36.87568688392639,\n",
       "   'time_total_s': 4934.317349433899,\n",
       "   'timestamp': 1514712923,\n",
       "   'timesteps_this_iter': 19178,\n",
       "   'timesteps_total': 2613651,\n",
       "   'training_iteration': 132},\n",
       "  'status': 'RUNNING',\n",
       "  'trainable_name': 'A3C'}}"
      ]
     },
     "execution_count": 36,
     "metadata": {},
     "output_type": "execute_result"
    }
   ],
   "source": [
    "t"
   ]
  },
  {
   "cell_type": "code",
   "execution_count": null,
   "metadata": {},
   "outputs": [],
   "source": []
  }
 ],
 "metadata": {
  "kernelspec": {
   "display_name": "Python 3",
   "language": "python",
   "name": "python3"
  },
  "language_info": {
   "codemirror_mode": {
    "name": "ipython",
    "version": 3
   },
   "file_extension": ".py",
   "mimetype": "text/x-python",
   "name": "python",
   "nbconvert_exporter": "python",
   "pygments_lexer": "ipython3",
   "version": "3.6.3"
  }
 },
 "nbformat": 4,
 "nbformat_minor": 2
}
